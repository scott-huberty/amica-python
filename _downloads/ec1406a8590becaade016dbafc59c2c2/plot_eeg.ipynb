{
  "cells": [
    {
      "cell_type": "markdown",
      "metadata": {},
      "source": [
        "\n# Run AMICA on EEG Data\n\nAnd compare results to Fortran AMICA.\n"
      ]
    },
    {
      "cell_type": "code",
      "execution_count": null,
      "metadata": {
        "collapsed": false
      },
      "outputs": [],
      "source": [
        "import amica\nfrom amica import AMICA\nimport matplotlib.pyplot as plt\nimport mne\n\nimport numpy as np"
      ]
    },
    {
      "cell_type": "markdown",
      "metadata": {},
      "source": [
        "## Download sample data\n\n\n"
      ]
    },
    {
      "cell_type": "code",
      "execution_count": null,
      "metadata": {
        "collapsed": false
      },
      "outputs": [],
      "source": [
        "data_path = amica.datasets.data_path()"
      ]
    },
    {
      "cell_type": "markdown",
      "metadata": {},
      "source": [
        "## Load Fortran AMICA initial weights and results\n\nThis is not necessary to run AMICA in Python, but we are going to compare amica-python\nresults to those obtained from the original Fortran implementation.\n\n\n"
      ]
    },
    {
      "cell_type": "code",
      "execution_count": null,
      "metadata": {
        "collapsed": false
      },
      "outputs": [],
      "source": [
        "initial_weights, initial_scales, initial_locations = amica.utils.load_initial_weights(\n    data_path / \"eeglab_sample_data\" / \"amicaout_test\", n_components=32, n_mixtures=3\n    )"
      ]
    },
    {
      "cell_type": "markdown",
      "metadata": {},
      "source": [
        "## Load EEG data\n\n\n"
      ]
    },
    {
      "cell_type": "code",
      "execution_count": null,
      "metadata": {
        "collapsed": false
      },
      "outputs": [],
      "source": [
        "amica_outdir = data_path / \"eeglab_sample_data\" / \"amicaout_test\"\nfortran_results = amica.utils.load_fortran_results(\n    amica_outdir, n_components=32, n_mixtures=3\n    )"
      ]
    },
    {
      "cell_type": "code",
      "execution_count": null,
      "metadata": {
        "collapsed": false
      },
      "outputs": [],
      "source": [
        "raw = mne.io.read_raw_eeglab(\n    data_path / \"eeglab_sample_data\"/ \"eeglab_data.set\", preload=True\n    )\ndata = raw.get_data().T  # Shape (n_samples, n_channels)\ndata *= 1e6  # Convert from Volts to microVolts"
      ]
    },
    {
      "cell_type": "markdown",
      "metadata": {},
      "source": [
        "## Run AMICA-Python\n\n\n"
      ]
    },
    {
      "cell_type": "code",
      "execution_count": null,
      "metadata": {
        "collapsed": false
      },
      "outputs": [],
      "source": [
        "transformer = AMICA(\n        max_iter=200,\n        w_init=initial_weights,\n        sbeta_init=initial_scales,\n        mu_init=initial_locations,\n)\ntransformer.fit(data)"
      ]
    },
    {
      "cell_type": "markdown",
      "metadata": {},
      "source": [
        "## Compare results\n\n\n"
      ]
    },
    {
      "cell_type": "code",
      "execution_count": null,
      "metadata": {
        "collapsed": false
      },
      "outputs": [],
      "source": [
        "def plot_topomaps(A, output=\"python\"):\n    fig, ax = plt.subplots(\n        nrows=8,\n        ncols=4,\n        figsize=(8, 12),\n        constrained_layout=True\n        )\n    for i, this_ax in zip(range(32), ax.flat):\n        mne.viz.plot_topomap(\n            A[:, i],\n            pos=raw.info,\n            axes=this_ax,\n            show=False,\n        )\n        this_ax.set_title(f\"Component {i}\")\n    fig.suptitle(f\"AMICA Component Topomaps ({output})\", fontsize=16)\n    return fig, ax"
      ]
    },
    {
      "cell_type": "code",
      "execution_count": null,
      "metadata": {
        "collapsed": false
      },
      "outputs": [],
      "source": [
        "fig1, ax1 = plot_topomaps(transformer.mixing_, output=\"python\")"
      ]
    },
    {
      "cell_type": "markdown",
      "metadata": {},
      "source": [
        "The Fortran mixing matrix is in sphered space. We need to unwhiten it first.\n\n"
      ]
    },
    {
      "cell_type": "code",
      "execution_count": null,
      "metadata": {
        "collapsed": false
      },
      "outputs": [],
      "source": [
        "A_fortran = np.linalg.pinv(fortran_results['S']) @ fortran_results['A']\nfig2, ax2 = plot_topomaps(A_fortran, output=\"fortran\")"
      ]
    }
  ],
  "metadata": {
    "kernelspec": {
      "display_name": "Python 3",
      "language": "python",
      "name": "python3"
    },
    "language_info": {
      "codemirror_mode": {
        "name": "ipython",
        "version": 3
      },
      "file_extension": ".py",
      "mimetype": "text/x-python",
      "name": "python",
      "nbconvert_exporter": "python",
      "pygments_lexer": "ipython3",
      "version": "3.11.14"
    }
  },
  "nbformat": 4,
  "nbformat_minor": 0
}