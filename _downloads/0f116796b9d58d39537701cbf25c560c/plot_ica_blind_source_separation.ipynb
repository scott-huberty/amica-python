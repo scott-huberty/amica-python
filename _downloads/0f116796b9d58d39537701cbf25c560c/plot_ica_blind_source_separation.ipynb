{
  "cells": [
    {
      "cell_type": "markdown",
      "metadata": {},
      "source": [
        "\n# Blind Source Separation with AMICA & FastICA\n\nAn example of estimating sources from noisy mixtures.\n\nICA separates independent sources given only mixed\nmicrophone recordings. Imagine three instruments playing\nsimultaneously and three microphones recording the mixtures.\nICA recovers the instrument tracks because the sources are\nnon-Gaussian. PCA, by contrast, fails in this setting.\n\n\n.. Note::\n    This example is adapted from the\n    [Scikit-Learn documentation](https://scikit-learn.org/stable/auto_examples/decomposition/plot_ica_blind_source_separation.html).\n"
      ]
    },
    {
      "cell_type": "markdown",
      "metadata": {},
      "source": [
        "## Generate sample data\n\n"
      ]
    },
    {
      "cell_type": "code",
      "execution_count": null,
      "metadata": {
        "collapsed": false
      },
      "outputs": [],
      "source": [
        "import numpy as np\nfrom scipy import signal\n\nrng = np.random.default_rng(0)\nn_samples = 2000\ntime = np.linspace(0, 8, n_samples)\n\ns1 = np.sin(2 * time)                     # Sinusoidal\ns2 = np.sign(np.sin(3 * time))            # Square wave\ns3 = signal.sawtooth(2 * np.pi * time)    # Sawtooth\n\nS = np.c_[s1, s2, s3]\nS += 0.2 * rng.standard_normal(S.shape)   # Add noise\nS /= S.std(axis=0)                        # Standardize\n\nA = np.array([[1, 1, 1],\n              [0.5, 2, 1.0],\n              [1.5, 1.0, 2.0]])           # Mixing matrix\n\nX = S @ A.T                               # Observed mixtures"
      ]
    },
    {
      "cell_type": "markdown",
      "metadata": {},
      "source": [
        "## Run AMICA and FastICA\n\n"
      ]
    },
    {
      "cell_type": "code",
      "execution_count": null,
      "metadata": {
        "collapsed": false
      },
      "outputs": [],
      "source": [
        "from amica import AMICA\nfrom sklearn.decomposition import FastICA\n\nmodels = {}\nlabels = {}\n\n# AMICA\n# We instantiate amica.AMICA and call fit..\nica = AMICA(n_components=3, whiten=\"zca\", random_state=0)\nmodels[\"AMICA\"] = ica.fit_transform(X)\nlabels[\"AMICA\"] = \"AMICA recovered signals\""
      ]
    },
    {
      "cell_type": "markdown",
      "metadata": {},
      "source": [
        "We can prove that the ICA model applies by reverting the unmixing.\n\n"
      ]
    },
    {
      "cell_type": "code",
      "execution_count": null,
      "metadata": {
        "collapsed": false
      },
      "outputs": [],
      "source": [
        "X_rec = models[\"AMICA\"] @ ica.mixing_.T + ica.mean_\nnp.testing.assert_allclose(X, X_rec)\n\n# FastICA\nfastica = FastICA(n_components=3, whiten=\"arbitrary-variance\", random_state=0)\nmodels[\"FastICA\"] = fastica.fit_transform(X)\nlabels[\"FastICA\"] = \"FastICA recovered signals\""
      ]
    },
    {
      "cell_type": "markdown",
      "metadata": {},
      "source": [
        "## Plot results\n\n"
      ]
    },
    {
      "cell_type": "code",
      "execution_count": null,
      "metadata": {
        "collapsed": false
      },
      "outputs": [],
      "source": [
        "import matplotlib.pyplot as plt\n\n# Merge dictionaries into one mapping title -> data\nto_plot = {\n    \"Observed mixtures\": X,\n    \"True sources\": S,\n}\nto_plot.update({ labels[k]: v for k, v in models.items() })\n\ncolors = [\"red\", \"steelblue\", \"orange\"]\n\nfig, axes = plt.subplots(len(to_plot), 1, figsize=(8, 6), sharex=True)\nfor ax, (title, model) in zip(axes, to_plot.items()):\n    ax.set_title(title)\n    for sig, color in zip(model.T, colors):\n        ax.plot(sig, color=color, lw=1)\n\nplt.tight_layout()\nplt.show()"
      ]
    }
  ],
  "metadata": {
    "kernelspec": {
      "display_name": "Python 3",
      "language": "python",
      "name": "python3"
    },
    "language_info": {
      "codemirror_mode": {
        "name": "ipython",
        "version": 3
      },
      "file_extension": ".py",
      "mimetype": "text/x-python",
      "name": "python",
      "nbconvert_exporter": "python",
      "pygments_lexer": "ipython3",
      "version": "3.11.14"
    }
  },
  "nbformat": 4,
  "nbformat_minor": 0
}