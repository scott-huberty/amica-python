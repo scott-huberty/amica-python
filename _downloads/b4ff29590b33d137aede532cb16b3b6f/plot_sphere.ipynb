{
  "cells": [
    {
      "cell_type": "markdown",
      "metadata": {},
      "source": [
        "\n# Sphering (whitening) data\n"
      ]
    },
    {
      "cell_type": "code",
      "execution_count": null,
      "metadata": {
        "collapsed": false
      },
      "outputs": [],
      "source": [
        "import numpy as np\nimport matplotlib.pyplot as plt\n\nfrom amica.linalg import pre_whiten"
      ]
    },
    {
      "cell_type": "markdown",
      "metadata": {},
      "source": [
        "This example heavily borrows from this great [tutorial](https://cbrnr.github.io/blog/whitening-pca-zca/)_.\n\n"
      ]
    },
    {
      "cell_type": "markdown",
      "metadata": {},
      "source": [
        "## Toy Data\n\n"
      ]
    },
    {
      "cell_type": "markdown",
      "metadata": {},
      "source": [
        "Generate toy 2D Gaussian data with correlated dimensions\n\n"
      ]
    },
    {
      "cell_type": "code",
      "execution_count": null,
      "metadata": {
        "collapsed": false
      },
      "outputs": [],
      "source": [
        "rng = np.random.default_rng(seed=2)\nmu = [0, 0]\nsigma = [[5, 4], [4, 5]]  # must be positive semi-definite\nn = 1000\nX = rng.multivariate_normal(mu, sigma, size=n).T # shape (n, 2)"
      ]
    },
    {
      "cell_type": "markdown",
      "metadata": {},
      "source": [
        "Highlight 20 farthest points from the origin\n\n"
      ]
    },
    {
      "cell_type": "code",
      "execution_count": null,
      "metadata": {
        "collapsed": false
      },
      "outputs": [],
      "source": [
        "idx_far = np.argsort(np.linalg.norm(X, axis=0))[-20:]\nidx_rest = list(set(range(n)) - set(idx_far))"
      ]
    },
    {
      "cell_type": "markdown",
      "metadata": {},
      "source": [
        "Utility plotting function\n\n"
      ]
    },
    {
      "cell_type": "code",
      "execution_count": null,
      "metadata": {
        "collapsed": false
      },
      "outputs": [],
      "source": [
        "def plot_data(data, title):\n    fig, ax = plt.subplots()\n    ax.scatter(data[0, idx_rest], data[1, idx_rest], s=20, alpha=0.2)\n    ax.scatter(data[0, idx_far], data[1, idx_far], s=20, c=\"red\", alpha=0.2)\n    ax.set_aspect(\"equal\")\n    ax.set_xlim(-8, 8)\n    ax.set_ylim(-8, 8)\n    ax.set_xlabel(\"$x_1$\")\n    ax.set_ylabel(\"$x_2$\")\n    ax.spines[\"top\"].set_visible(False)\n    ax.spines[\"right\"].set_visible(False)\n    ax.set_title(title)"
      ]
    },
    {
      "cell_type": "markdown",
      "metadata": {},
      "source": [
        "Original correlated data\n\n"
      ]
    },
    {
      "cell_type": "code",
      "execution_count": null,
      "metadata": {
        "collapsed": false
      },
      "outputs": [],
      "source": [
        "plot_data(X, \"Original\")"
      ]
    },
    {
      "cell_type": "markdown",
      "metadata": {},
      "source": [
        "## Whitening with different options\n\n\n"
      ]
    },
    {
      "cell_type": "code",
      "execution_count": null,
      "metadata": {
        "collapsed": false
      },
      "outputs": [],
      "source": [
        "for mode, title in [\n    ({\"do_approx_sphere\": True}, \"Approximate Sphere\"),\n    ({\"do_approx_sphere\": False}, \"Exact Sphere\"),\n    ({\"do_sphere\": False}, \"Normalize by Variance\"),\n]:\n    Z, *_ = pre_whiten(X=X.T, inplace=False, **mode)\n    plot_data(Z.T, title)"
      ]
    }
  ],
  "metadata": {
    "kernelspec": {
      "display_name": "Python 3",
      "language": "python",
      "name": "python3"
    },
    "language_info": {
      "codemirror_mode": {
        "name": "ipython",
        "version": 3
      },
      "file_extension": ".py",
      "mimetype": "text/x-python",
      "name": "python",
      "nbconvert_exporter": "python",
      "pygments_lexer": "ipython3",
      "version": "3.11.14"
    }
  },
  "nbformat": 4,
  "nbformat_minor": 0
}