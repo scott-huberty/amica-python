{
  "cells": [
    {
      "cell_type": "markdown",
      "metadata": {},
      "source": [
        "\n# Use AMICA in a Scikit-Learn Pipeline\n\nWe'll use AMICA as a preprocessing step in a scikit-learn pipeline to perform\ndigit classification on the MNIST dataset.\n"
      ]
    },
    {
      "cell_type": "code",
      "execution_count": null,
      "metadata": {
        "collapsed": false
      },
      "outputs": [],
      "source": [
        "import numpy as np\nimport matplotlib.pyplot as plt\n\nfrom sklearn.datasets import fetch_openml\nfrom sklearn.model_selection import train_test_split\nfrom sklearn.preprocessing import StandardScaler\nfrom sklearn.pipeline import Pipeline\nfrom sklearn.linear_model import LogisticRegression\nfrom sklearn.metrics import classification_report\n\nfrom amica import AMICA"
      ]
    },
    {
      "cell_type": "markdown",
      "metadata": {},
      "source": [
        "Load & split dataset\n\n"
      ]
    },
    {
      "cell_type": "markdown",
      "metadata": {},
      "source": [
        "Download MNIST (70k samples, 28\u00d728 flattened)\n\n"
      ]
    },
    {
      "cell_type": "code",
      "execution_count": null,
      "metadata": {
        "collapsed": false
      },
      "outputs": [],
      "source": [
        "X, y = fetch_openml(\"mnist_784\", version=1, return_X_y=True, as_frame=False)\n\n# Just take digits 0-3 to speed up computation\nmask = np.isin(y, [\"0\", \"1\", \"2\", \"3\"])\nX = X[mask].copy()\ny = y[mask].copy().astype(int)\n\n# Train/test split: 60k / 10k\nX_train, X_test, y_train, y_test = train_test_split(\n    X, y, test_size=1/7.0, shuffle=True, random_state=0\n)"
      ]
    },
    {
      "cell_type": "markdown",
      "metadata": {},
      "source": [
        "## Build scikit-learn pipeline with AMICA\n\n"
      ]
    },
    {
      "cell_type": "code",
      "execution_count": null,
      "metadata": {
        "collapsed": false
      },
      "outputs": [],
      "source": [
        "pipe = Pipeline([\n    (\"center\", StandardScaler(with_std=False)),  # remove global brightness bias\n    (\"amica\", AMICA(n_components=60, max_iter=200, tol=.0001, random_state=0)),\n    (\"scale_components\", StandardScaler()),      # optional but helps LR\n    (\"logreg\", LogisticRegression(\n        max_iter=2000,\n        n_jobs=-1\n    )),\n])"
      ]
    },
    {
      "cell_type": "markdown",
      "metadata": {},
      "source": [
        "## Fit\n\n"
      ]
    },
    {
      "cell_type": "code",
      "execution_count": null,
      "metadata": {
        "collapsed": false
      },
      "outputs": [],
      "source": [
        "pipe.fit(X_train, y_train)"
      ]
    },
    {
      "cell_type": "markdown",
      "metadata": {},
      "source": [
        "## Evaluate\n\n"
      ]
    },
    {
      "cell_type": "code",
      "execution_count": null,
      "metadata": {
        "collapsed": false
      },
      "outputs": [],
      "source": [
        "y_pred = pipe.predict(X_test)\n\nprint(classification_report(\n    y_test, y_pred, target_names=[str(i) for i in range(4)]\n))\n\nprint(f\"Accuracy: {pipe.score(X_test, y_test):.4f}\")"
      ]
    },
    {
      "cell_type": "markdown",
      "metadata": {},
      "source": [
        "## Important features for the 0 digit\nWe can select the most important ICA features for the 0 class (with negative and positive weights) and display their associate ICA sources.\n\n\n"
      ]
    },
    {
      "cell_type": "markdown",
      "metadata": {},
      "source": [
        "### Helper\n\n"
      ]
    },
    {
      "cell_type": "code",
      "execution_count": null,
      "metadata": {
        "collapsed": false
      },
      "outputs": [],
      "source": [
        "def imshow_row(images, titles=None, figsize=(20, 4), suptitle=None, cmap=\"gray\"):\n    fig, axes = plt.subplots(1, len(images), figsize=figsize, constrained_layout=True)\n    if suptitle:\n        fig.suptitle(suptitle, fontsize=18, fontweight=\"bold\")\n    for i, ax in enumerate(axes):\n        ax.imshow(images[i].reshape(28, 28), cmap=cmap)\n        ax.axis(\"off\")\n        if titles is not None:\n            ax.set_title(titles[i])\n    return fig"
      ]
    },
    {
      "cell_type": "markdown",
      "metadata": {},
      "source": [
        "### Show sample digits of class 0\n\n"
      ]
    },
    {
      "cell_type": "code",
      "execution_count": null,
      "metadata": {
        "collapsed": false
      },
      "outputs": [],
      "source": [
        "zeros = X[y == 0][:10]\n\nimshow_row(\n    zeros,\n    suptitle=\"10 samples of digit '0'\"\n)\nplt.show()"
      ]
    },
    {
      "cell_type": "markdown",
      "metadata": {},
      "source": [
        "### Top positive / negative logistic weights\n\n"
      ]
    },
    {
      "cell_type": "code",
      "execution_count": null,
      "metadata": {
        "collapsed": false
      },
      "outputs": [],
      "source": [
        "logreg = pipe.named_steps[\"logreg\"]\namica = pipe.named_steps[\"amica\"]\n\ncoef = logreg.coef_[0]\nsorted_idx = np.argsort(coef)\n\ntop_pos = sorted_idx[-5:][::-1]\ntop_neg = sorted_idx[:5]\n\nimshow_row(\n    amica.components_[top_pos],\n    titles=[f\"Comp {i}\" for i in top_pos],\n    suptitle=\"Top 5 positive AMICA components for class 0\"\n)\nplt.show()"
      ]
    },
    {
      "cell_type": "code",
      "execution_count": null,
      "metadata": {
        "collapsed": false
      },
      "outputs": [],
      "source": [
        "imshow_row(\n    amica.components_[top_neg],\n    titles=[f\"Comp {i}\" for i in top_neg],\n    suptitle=\"Top 5 negative AMICA components for class 0\"\n)\nplt.show()"
      ]
    }
  ],
  "metadata": {
    "kernelspec": {
      "display_name": "Python 3",
      "language": "python",
      "name": "python3"
    },
    "language_info": {
      "codemirror_mode": {
        "name": "ipython",
        "version": 3
      },
      "file_extension": ".py",
      "mimetype": "text/x-python",
      "name": "python",
      "nbconvert_exporter": "python",
      "pygments_lexer": "ipython3",
      "version": "3.11.14"
    }
  },
  "nbformat": 4,
  "nbformat_minor": 0
}