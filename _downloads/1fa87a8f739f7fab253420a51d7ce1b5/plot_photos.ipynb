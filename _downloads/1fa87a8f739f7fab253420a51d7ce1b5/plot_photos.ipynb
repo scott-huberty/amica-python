{
  "cells": [
    {
      "cell_type": "markdown",
      "metadata": {},
      "source": [
        "\n# Blind source separation (BSS) on blended photographs\n\nWe blend 5 grayscale photographs using a random mixing matrix\nand attempt to recover them using AMICA and FastICA.\n"
      ]
    },
    {
      "cell_type": "code",
      "execution_count": null,
      "metadata": {
        "collapsed": false
      },
      "outputs": [],
      "source": [
        "from pathlib import Path\nimport numpy as np\nimport matplotlib.pyplot as plt\nfrom PIL import Image\nfrom sklearn.decomposition import FastICA\n\nfrom amica import AMICA, datasets"
      ]
    },
    {
      "cell_type": "markdown",
      "metadata": {},
      "source": [
        "## Utilities\n\n"
      ]
    },
    {
      "cell_type": "code",
      "execution_count": null,
      "metadata": {
        "collapsed": false
      },
      "outputs": [],
      "source": [
        "def load_grayscale_image(path: Path, size: tuple[int, int] | None = None) -> np.ndarray:\n    img = Image.open(path).convert(\"L\")\n    if size:\n        img = img.resize(size)\n    return np.asarray(img, dtype=float) / 255.0\n\n\ndef plot_images(images: list[np.ndarray], title: str | None = None) -> None:\n    n = len(images)\n    fig, axes = plt.subplots(1, n, figsize=(3 * n, 3))\n\n    if title:\n        fig.suptitle(title, fontsize=14)\n\n    for ax, img in zip(axes, images):\n        ax.imshow(img, cmap=\"gray\", interpolation=\"nearest\")\n        ax.set_xticks([])\n        ax.set_yticks([])\n\n    plt.tight_layout()\n    plt.show()"
      ]
    },
    {
      "cell_type": "markdown",
      "metadata": {},
      "source": [
        "## Load source images\n\n\n"
      ]
    },
    {
      "cell_type": "code",
      "execution_count": null,
      "metadata": {
        "collapsed": false
      },
      "outputs": [],
      "source": [
        "photos_dir = datasets.data_path() / \"photos\"\nfilenames = [\n    \"example2_baboon\",\n    \"example2_cameraman\",\n    \"example2_lena\",\n    \"example2_mona\",\n    \"example2_texture\",\n]\n\nsources = [load_grayscale_image(photos_dir / fn) for fn in filenames]\n\n# Common shape (ensure consistent size)\nheight, width = sources[0].shape\n\n# Stack flattened as rows -> shape (n_sources, n_pixels)\nS = np.vstack([src.ravel() for src in sources])\nplot_images(sources, title=\"Source Images\")"
      ]
    },
    {
      "cell_type": "markdown",
      "metadata": {},
      "source": [
        "## Mix sources with random mixing matrix\n\n"
      ]
    },
    {
      "cell_type": "code",
      "execution_count": null,
      "metadata": {
        "collapsed": false
      },
      "outputs": [],
      "source": [
        "seed = 42\nrng = np.random.default_rng(seed)\nA = rng.random((5, 5))\nX = A @ S  # shape (5, pixels)\n\nmixed_images = [row.reshape(height, width) for row in X]\nplot_images(mixed_images, title=\"Mixed Observations\")"
      ]
    },
    {
      "cell_type": "markdown",
      "metadata": {},
      "source": [
        "## Recover with AMICA\n\n"
      ]
    },
    {
      "cell_type": "code",
      "execution_count": null,
      "metadata": {
        "collapsed": false
      },
      "outputs": [],
      "source": [
        "amica = AMICA(random_state=seed, tol=.0001) # increase tol to match FastICA tolerance\nS_amica = amica.fit_transform(X.T).T\nrecovered_amica = [row.reshape(height, width) for row in S_amica]\n\nplot_images(recovered_amica, title=\"Recovered with AMICA\")"
      ]
    },
    {
      "cell_type": "markdown",
      "metadata": {},
      "source": [
        "## Recover with FastICA\n\n"
      ]
    },
    {
      "cell_type": "code",
      "execution_count": null,
      "metadata": {
        "collapsed": false
      },
      "outputs": [],
      "source": [
        "fastica = FastICA(n_components=5, random_state=seed)\nS_fast = fastica.fit_transform(X.T).T\nrecovered_fastica = [row.reshape(height, width) for row in S_fast]\n\nplot_images(recovered_fastica, title=\"Recovered with FastICA\")"
      ]
    }
  ],
  "metadata": {
    "kernelspec": {
      "display_name": "Python 3",
      "language": "python",
      "name": "python3"
    },
    "language_info": {
      "codemirror_mode": {
        "name": "ipython",
        "version": 3
      },
      "file_extension": ".py",
      "mimetype": "text/x-python",
      "name": "python",
      "nbconvert_exporter": "python",
      "pygments_lexer": "ipython3",
      "version": "3.11.14"
    }
  },
  "nbformat": 4,
  "nbformat_minor": 0
}